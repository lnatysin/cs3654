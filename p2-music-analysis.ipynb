{
 "cells": [
  {
   "attachments": {},
   "cell_type": "markdown",
   "metadata": {},
   "source": [
    "# Exploring Music Through the Decades\n",
    "### The Tune Trackers\n",
    "\n",
    "In this project, we will analyze the top 20 songs from each decade to uncover trends and patterns in music over time. Using Spotify's dataset, we will explore how musical characteristics have evolved across decades.\n",
    "\n",
    "### Research Questions\n",
    "1. What are the common connections between top songs across different decades?\n",
    "2. How similar are the top 20 songs within a decade, and how do they vary between decades?\n",
    "3. How have the dominant themes in popular music evolved over the decades?\n",
    "4. Is there a relationship between musical genres and lyrical content over time?\n",
    "5. How do the top songs of each decade compare in terms of mood or sentiment?\n",
    "\n",
    "### Potential Data Sources\n",
    "We plan to split up the work, listening to the top 20 songs for each decade according to these websites.\n",
    "##### 80s: https://www.rollingstone.com/music/music-lists/best-80s-songs-1234876455/george-clinton-atomic-dog-1234878374/\n",
    "##### 90s: https://www.rollingstone.com/music/music-lists/50-best-songs-of-the-nineties-252530/nirvana-smells-like-teen-spirit-1991-252544/ \n",
    "##### 2000s: https://www.rollingstone.com/music/music-lists/100-best-songs-of-the-2000s-153056/ \n",
    "##### 2010s: https://www.rollingstone.com/music/music-lists/the-100-best-songs-of-the-2010s-917532/\n",
    "##### 2020s (so far): https://pitchfork.com/features/lists-and-guides/the-100-best-songs-of-the-2020s-so-far/\n",
    "We will look at the top 20 songs on each of these lists, listen to them, and then assign information to them according to what we hear.\n",
    "\n",
    "### Credits:\n",
    "\n",
    "Authors: Grant Stiglich (grantstiglich), Logan Natysin (lnatysin), Xiaolong Xuan (xxiaolong), Gawain Zhang (gawzhang), Junxiang Feng (junxiang)\n",
    "\n",
    "### Data Source\n",
    "We will be using the Spotify dataset from Kaggle which provides detailed audio features for thousands of songs: https://www.kaggle.com/code/vatsalmavani/music-recommendation-system-using-spotify-dataset/input\n",
    "\n"
   ]
  },
  {
   "cell_type": "code",
   "execution_count": null,
   "metadata": {},
   "outputs": [],
   "source": [
    "\n",
    "import os\n",
    "import numpy as np\n",
    "import pandas as pd\n",
    "\n",
    "import seaborn as sns\n",
    "import plotly.express as px \n",
    "import matplotlib.pyplot as plt\n",
    "%matplotlib inline\n",
    "\n",
    "from sklearn.cluster import KMeans\n",
    "from sklearn.preprocessing import StandardScaler\n",
    "from sklearn.pipeline import Pipeline\n",
    "from sklearn.manifold import TSNE\n",
    "from sklearn.decomposition import PCA\n",
    "from sklearn.metrics import euclidean_distances\n",
    "from scipy.spatial.distance import cdist\n",
    "\n",
    "import warnings\n",
    "warnings.filterwarnings(\"ignore\")"
   ]
  },
  {
   "attachments": {},
   "cell_type": "markdown",
   "metadata": {},
   "source": [
    "## Data Loading and Processing"
   ]
  },
  {
   "cell_type": "code",
   "execution_count": null,
   "metadata": {},
   "outputs": [],
   "source": [
    "data = pd.read_csv(\"./data/data.csv\")\n",
    "genre_data = pd.read_csv('./data/data_by_genres.csv')\n",
    "year_data = pd.read_csv('./data/data_by_year.csv')"
   ]
  },
  {
   "attachments": {},
   "cell_type": "markdown",
   "metadata": {},
   "source": [
    "## Initial Analysis: Musical Features Across Decades"
   ]
  },
  {
   "cell_type": "code",
   "execution_count": null,
   "metadata": {},
   "outputs": [],
   "source": []
  },
  {
   "attachments": {},
   "cell_type": "markdown",
   "metadata": {},
   "source": [
    "## Creating Radar Chart for Feature Comparison"
   ]
  },
  {
   "cell_type": "code",
   "execution_count": null,
   "metadata": {},
   "outputs": [],
   "source": []
  },
  {
   "attachments": {},
   "cell_type": "markdown",
   "metadata": {},
   "source": [
    "## Genre Analysis"
   ]
  },
  {
   "cell_type": "code",
   "execution_count": null,
   "metadata": {},
   "outputs": [],
   "source": []
  },
  {
   "attachments": {},
   "cell_type": "markdown",
   "metadata": {},
   "source": [
    "## Danceability Analysis"
   ]
  },
  {
   "cell_type": "code",
   "execution_count": null,
   "metadata": {},
   "outputs": [],
   "source": []
  },
  {
   "attachments": {},
   "cell_type": "markdown",
   "metadata": {},
   "source": [
    "## Statistical Analysis"
   ]
  },
  {
   "cell_type": "code",
   "execution_count": null,
   "metadata": {},
   "outputs": [],
   "source": []
  },
  {
   "attachments": {},
   "cell_type": "markdown",
   "metadata": {},
   "source": [
    "## Team Contributions for Part 2\n",
    "\n",
    "- Data Collection and Processing: \n",
    "- Initial Analysis and Visualization: \n",
    "- Genre Analysis:\n",
    "- Danceability Analysis: \n",
    "- Documentation and Report Writing: \n",
    "\n",
    "## Initial Findings\n",
    "\n",
    "1. ?\n",
    "2. ?\n",
    "3. \n",
    "\n",
    "## Next Steps\n",
    "\n",
    "For the next phase of our project, we plan to:\n",
    "1. Incorporate more detailed genre analysis\n",
    "2. Add sentiment analysis of song lyrics\n",
    "3. Create interactive visualizations\n",
    "4. Perform statistical tests to validate our findings"
   ]
  }
 ],
 "metadata": {
  "kernelspec": {
   "display_name": "Python 3",
   "language": "python",
   "name": "python3"
  },
  "language_info": {
   "codemirror_mode": {
    "name": "ipython",
    "version": 3
   },
   "file_extension": ".py",
   "mimetype": "text/x-python",
   "name": "python",
   "nbconvert_exporter": "python",
   "pygments_lexer": "ipython3",
   "version": "3.8.8"
  }
 },
 "nbformat": 4,
 "nbformat_minor": 5
}
